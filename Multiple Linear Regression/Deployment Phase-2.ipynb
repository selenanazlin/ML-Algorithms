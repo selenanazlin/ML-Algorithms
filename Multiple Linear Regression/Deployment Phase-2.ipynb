{
 "cells": [
  {
   "cell_type": "code",
   "execution_count": 1,
   "metadata": {},
   "outputs": [],
   "source": [
    "import pickle"
   ]
  },
  {
   "cell_type": "code",
   "execution_count": 9,
   "metadata": {},
   "outputs": [],
   "source": [
    "model = pickle.load(open(\"mulline_final.sav\",'rb'))"
   ]
  },
  {
   "cell_type": "raw",
   "metadata": {},
   "source": []
  },
  {
   "cell_type": "code",
   "execution_count": 10,
   "metadata": {},
   "outputs": [
    {
     "name": "stdout",
     "output_type": "stream",
     "text": [
      "R&D:2000\n",
      "Admin400\n",
      "Marketing4000\n",
      "State_flo 0 or 1:0\n",
      "State_new 0 or 1:0\n"
     ]
    }
   ],
   "source": [
    "rd_input = float(input(\"R&D:\"))\n",
    "admin_input = float(input(\"Admin\"))\n",
    "mark_input = float(input(\"Marketing\"))\n",
    "fol_input = float(input(\"State_flo 0 or 1:\"))\n",
    "new_input = float(input(\"State_new 0 or 1:\"))"
   ]
  },
  {
   "cell_type": "code",
   "execution_count": 12,
   "metadata": {},
   "outputs": [],
   "source": [
    "result=model.predict([[rd_input,admin_input,mark_input,fol_input,new_input]])"
   ]
  },
  {
   "cell_type": "code",
   "execution_count": 13,
   "metadata": {},
   "outputs": [
    {
     "data": {
      "text/plain": [
       "array([[40914.33615068]])"
      ]
     },
     "execution_count": 13,
     "metadata": {},
     "output_type": "execute_result"
    }
   ],
   "source": [
    "result"
   ]
  },
  {
   "cell_type": "code",
   "execution_count": 14,
   "metadata": {},
   "outputs": [
    {
     "name": "stdout",
     "output_type": "stream",
     "text": [
      "R&D:542.05\n",
      "Admin51743.15\n",
      "Marketing0\n",
      "State_flo 0 or 1:0\n",
      "State_new 0 or 1:1\n"
     ]
    }
   ],
   "source": [
    "rd_input = float(input(\"R&D:\"))\n",
    "admin_input = float(input(\"Admin\"))\n",
    "mark_input = float(input(\"Marketing\"))\n",
    "fol_input = float(input(\"State_flo 0 or 1:\"))\n",
    "new_input = float(input(\"State_new 0 or 1:\"))"
   ]
  },
  {
   "cell_type": "code",
   "execution_count": 15,
   "metadata": {},
   "outputs": [],
   "source": [
    "result=model.predict([[rd_input,admin_input,mark_input,fol_input,new_input]])"
   ]
  },
  {
   "cell_type": "code",
   "execution_count": 16,
   "metadata": {},
   "outputs": [
    {
     "data": {
      "text/plain": [
       "array([[41867.1883283]])"
      ]
     },
     "execution_count": 16,
     "metadata": {},
     "output_type": "execute_result"
    }
   ],
   "source": [
    "result"
   ]
  },
  {
   "cell_type": "code",
   "execution_count": null,
   "metadata": {},
   "outputs": [],
   "source": []
  }
 ],
 "metadata": {
  "kernelspec": {
   "display_name": "Python 3",
   "language": "python",
   "name": "python3"
  },
  "language_info": {
   "codemirror_mode": {
    "name": "ipython",
    "version": 3
   },
   "file_extension": ".py",
   "mimetype": "text/x-python",
   "name": "python",
   "nbconvert_exporter": "python",
   "pygments_lexer": "ipython3",
   "version": "3.8.5"
  }
 },
 "nbformat": 4,
 "nbformat_minor": 4
}
